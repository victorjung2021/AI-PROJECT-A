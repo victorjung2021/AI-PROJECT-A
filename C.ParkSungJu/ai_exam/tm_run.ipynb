{
 "cells": [
  {
   "cell_type": "markdown",
   "id": "56fa55d8",
   "metadata": {},
   "source": [
    "# 1. 라이브러리 불러오기"
   ]
  },
  {
   "cell_type": "code",
   "execution_count": 1,
   "id": "88ce4020",
   "metadata": {},
   "outputs": [],
   "source": [
    "from keras.models import load_model\n",
    "from PIL import Image, ImageOps\n",
    "import numpy as np"
   ]
  },
  {
   "cell_type": "markdown",
   "id": "c9bcccf4",
   "metadata": {},
   "source": [
    "# 2. 학습데이터 불러오기"
   ]
  },
  {
   "cell_type": "code",
   "execution_count": 2,
   "id": "cdb64e6f",
   "metadata": {},
   "outputs": [
    {
     "name": "stdout",
     "output_type": "stream",
     "text": [
      "WARNING:tensorflow:No training configuration found in the save file, so the model was *not* compiled. Compile it manually.\n"
     ]
    }
   ],
   "source": [
    "model = load_model('keras_model.h5')"
   ]
  },
  {
   "cell_type": "markdown",
   "id": "c41a051b",
   "metadata": {},
   "source": [
    "# 3. 데이터 불러오기"
   ]
  },
  {
   "cell_type": "code",
   "execution_count": 7,
   "id": "9b6db3a0",
   "metadata": {},
   "outputs": [],
   "source": [
    "data = np.ndarray(shape=(1, 224, 224, 3), dtype=np.float32)\n",
    "image = Image.open('rabbit.jpg')\n",
    "size = (224, 224)\n",
    "image = ImageOps.fit(image, size, Image.ANTIALIAS)"
   ]
  },
  {
   "cell_type": "markdown",
   "id": "df259925",
   "metadata": {},
   "source": [
    "# 4. 데이터 전처리하기"
   ]
  },
  {
   "cell_type": "code",
   "execution_count": 8,
   "id": "ec35f182",
   "metadata": {},
   "outputs": [],
   "source": [
    "image_array = np.asarray(image)\n",
    "normalized_image_array = (image_array.astype(np.float32) / 127.0) - 1\n",
    "data[0] = normalized_image_array"
   ]
  },
  {
   "cell_type": "markdown",
   "id": "92a20090",
   "metadata": {},
   "source": [
    "# 5. 예측(predict) 하기"
   ]
  },
  {
   "cell_type": "code",
   "execution_count": 9,
   "id": "049107b3",
   "metadata": {},
   "outputs": [
    {
     "name": "stdout",
     "output_type": "stream",
     "text": [
      "[[1.1033682e-08 2.4483742e-07 1.7626226e-08 3.2560745e-09 2.3119487e-06\n",
      "  1.4314832e-08 2.6550849e-06 4.5069680e-08 9.9999440e-01 3.2152781e-07]]\n"
     ]
    }
   ],
   "source": [
    "prediction = model.predict(data)\n",
    "print(prediction)"
   ]
  },
  {
   "cell_type": "markdown",
   "id": "9609337c",
   "metadata": {},
   "source": [
    "# 6. 예측하기"
   ]
  },
  {
   "cell_type": "code",
   "execution_count": 10,
   "id": "3d7a467e",
   "metadata": {},
   "outputs": [
    {
     "name": "stdout",
     "output_type": "stream",
     "text": [
      "result = 8\n"
     ]
    }
   ],
   "source": [
    "result = np.argmax(prediction)\n",
    "print( \"result = %d\" % (result))"
   ]
  },
  {
   "cell_type": "code",
   "execution_count": null,
   "id": "59f0d2e5",
   "metadata": {},
   "outputs": [],
   "source": []
  }
 ],
 "metadata": {
  "kernelspec": {
   "display_name": "Python 3 (ipykernel)",
   "language": "python",
   "name": "python3"
  },
  "language_info": {
   "codemirror_mode": {
    "name": "ipython",
    "version": 3
   },
   "file_extension": ".py",
   "mimetype": "text/x-python",
   "name": "python",
   "nbconvert_exporter": "python",
   "pygments_lexer": "ipython3",
   "version": "3.7.11"
  }
 },
 "nbformat": 4,
 "nbformat_minor": 5
}
