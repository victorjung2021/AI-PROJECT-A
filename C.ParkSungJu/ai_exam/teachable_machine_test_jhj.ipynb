{
 "cells": [
  {
   "cell_type": "markdown",
   "id": "906aa0a4",
   "metadata": {},
   "source": [
    "# 1.라이브러리 불러오기"
   ]
  },
  {
   "cell_type": "code",
   "execution_count": 4,
   "id": "0f2fa7fe",
   "metadata": {},
   "outputs": [],
   "source": [
    "from keras.models import load_model\n",
    "from PIL import Image, ImageOps\n",
    "import numpy as np"
   ]
  },
  {
   "cell_type": "markdown",
   "id": "62c4ea41",
   "metadata": {},
   "source": [
    "# 2. 학습데이타 불러오기"
   ]
  },
  {
   "cell_type": "code",
   "execution_count": 7,
   "id": "fb5c37ea",
   "metadata": {},
   "outputs": [
    {
     "name": "stdout",
     "output_type": "stream",
     "text": [
      "WARNING:tensorflow:No training configuration found in the save file, so the model was *not* compiled. Compile it manually.\n"
     ]
    }
   ],
   "source": [
    "model = load_model('keras_model.h5')"
   ]
  },
  {
   "cell_type": "markdown",
   "id": "b3521c21",
   "metadata": {},
   "source": [
    "# 3. 데이타 불러오기"
   ]
  },
  {
   "cell_type": "code",
   "execution_count": 9,
   "id": "6d6788da",
   "metadata": {},
   "outputs": [],
   "source": [
    "data = np.ndarray(shape=(1, 224, 224, 3), dtype=np.float32)\n",
    "image = Image.open('rabbit.jpg')\n",
    "size = (224,224)\n",
    "image = ImageOps.fit(image, size, Image.ANTIALIAS)"
   ]
  },
  {
   "cell_type": "markdown",
   "id": "46b256ac",
   "metadata": {},
   "source": [
    "# 4.데이타 전처리하기"
   ]
  },
  {
   "cell_type": "code",
   "execution_count": 10,
   "id": "7a5059cf",
   "metadata": {},
   "outputs": [
    {
     "name": "stdout",
     "output_type": "stream",
     "text": [
      "[[7.0209424e-08 8.2796825e-05 1.0739939e-03 2.5506637e-01 1.4423809e-04\n",
      "  1.8296539e-03 2.3128737e-04 3.6833982e-03 3.8152975e-05 7.3785001e-01]]\n"
     ]
    }
   ],
   "source": [
    "prediction = model.predict(data)\n",
    "print(prediction)"
   ]
  },
  {
   "cell_type": "markdown",
   "id": "52173290",
   "metadata": {},
   "source": [
    "# 6.예측하기"
   ]
  },
  {
   "cell_type": "code",
   "execution_count": 11,
   "id": "3a8eb0f2",
   "metadata": {},
   "outputs": [
    {
     "name": "stdout",
     "output_type": "stream",
     "text": [
      " result = 9\n"
     ]
    }
   ],
   "source": [
    "result = np.argmax(prediction)\n",
    "print( \" result = %d\" % (result))"
   ]
  },
  {
   "cell_type": "code",
   "execution_count": null,
   "id": "1bf3a5dd",
   "metadata": {},
   "outputs": [],
   "source": []
  }
 ],
 "metadata": {
  "kernelspec": {
   "display_name": "Python 3 (ipykernel)",
   "language": "python",
   "name": "python3"
  },
  "language_info": {
   "codemirror_mode": {
    "name": "ipython",
    "version": 3
   },
   "file_extension": ".py",
   "mimetype": "text/x-python",
   "name": "python",
   "nbconvert_exporter": "python",
   "pygments_lexer": "ipython3",
   "version": "3.7.11"
  }
 },
 "nbformat": 4,
 "nbformat_minor": 5
}
